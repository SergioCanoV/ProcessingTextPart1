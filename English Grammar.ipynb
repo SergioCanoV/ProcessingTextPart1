{
 "cells": [
  {
   "cell_type": "markdown",
   "id": "81bed460",
   "metadata": {},
   "source": [
    "### Tokenization"
   ]
  },
  {
   "cell_type": "code",
   "execution_count": 2,
   "id": "6bec9fbf",
   "metadata": {},
   "outputs": [],
   "source": [
    "import nltk"
   ]
  },
  {
   "cell_type": "markdown",
   "id": "243d21f5",
   "metadata": {},
   "source": [
    "The algorithm splits the sentence in words considering the language.  Works better and .split() function considering that it can identify the apostrophes or other punctuation marks."
   ]
  },
  {
   "cell_type": "code",
   "execution_count": 16,
   "id": "67e1a00f",
   "metadata": {},
   "outputs": [],
   "source": [
    "test_sentence = \"I hope this winter it's not too cold but I've heard it's going to be colder than the last one\""
   ]
  },
  {
   "cell_type": "code",
   "execution_count": 17,
   "id": "839757c0",
   "metadata": {},
   "outputs": [
    {
     "data": {
      "text/plain": [
       "['I',\n",
       " 'hope',\n",
       " 'this',\n",
       " 'winter',\n",
       " 'it',\n",
       " \"'s\",\n",
       " 'not',\n",
       " 'too',\n",
       " 'cold',\n",
       " 'but',\n",
       " 'I',\n",
       " \"'ve\",\n",
       " 'heard',\n",
       " 'it',\n",
       " \"'s\",\n",
       " 'going',\n",
       " 'to',\n",
       " 'be',\n",
       " 'colder',\n",
       " 'than',\n",
       " 'the',\n",
       " 'last',\n",
       " 'one']"
      ]
     },
     "execution_count": 17,
     "metadata": {},
     "output_type": "execute_result"
    }
   ],
   "source": [
    "nltk.word_tokenize(test_sentence)"
   ]
  },
  {
   "cell_type": "markdown",
   "id": "1f63c87e",
   "metadata": {},
   "source": [
    "### POS Tagging"
   ]
  },
  {
   "cell_type": "markdown",
   "id": "1b400887",
   "metadata": {},
   "source": [
    "This helps us identifying the syntaxis in a sentence, it classifies each word with its respective grammar annotation."
   ]
  },
  {
   "cell_type": "code",
   "execution_count": 18,
   "id": "1b18acd8",
   "metadata": {},
   "outputs": [
    {
     "data": {
      "text/plain": [
       "[('I', 'PRP'),\n",
       " ('hope', 'VBP'),\n",
       " ('this', 'DT'),\n",
       " ('winter', 'NN'),\n",
       " ('it', 'PRP'),\n",
       " (\"'s\", 'VBZ'),\n",
       " ('not', 'RB'),\n",
       " ('too', 'RB'),\n",
       " ('cold', 'JJ'),\n",
       " ('but', 'CC'),\n",
       " ('I', 'PRP'),\n",
       " (\"'ve\", 'VBP'),\n",
       " ('heard', 'VBN'),\n",
       " ('it', 'PRP'),\n",
       " (\"'s\", 'VBZ'),\n",
       " ('going', 'VBG'),\n",
       " ('to', 'TO'),\n",
       " ('be', 'VB'),\n",
       " ('colder', 'JJR'),\n",
       " ('than', 'IN'),\n",
       " ('the', 'DT'),\n",
       " ('last', 'JJ'),\n",
       " ('one', 'NN')]"
      ]
     },
     "execution_count": 18,
     "metadata": {},
     "output_type": "execute_result"
    }
   ],
   "source": [
    "tokens = nltk.word_tokenize(test_sentence)\n",
    "nltk.pos_tag(tokens)"
   ]
  },
  {
   "cell_type": "markdown",
   "id": "2ee9d525",
   "metadata": {},
   "source": [
    "    Definitions\n",
    "    - PRP: Pronoun\n",
    "    - VBP: Verb, present tense, not 3rd person singular\n",
    "    - DT: Determiner\n",
    "    - NN: Noun\n",
    "    - VBZ: Verb, present tense, 3rd person singular\n",
    "    - RB: Adverb\n",
    "    - JJ: Adjective or numeral\n",
    "    - CC: Conjunction\n",
    "    - VBN: Verb, past participle\n",
    "    - VBG: Verb or gerund\n",
    "    - TO: Preposition or infinitive\n",
    "    - VB: Verb, base form\n",
    "    - JJR: Adjective, comparative\n",
    "    - IN: Preposition or conjuction"
   ]
  },
  {
   "cell_type": "markdown",
   "id": "9605ce85",
   "metadata": {},
   "source": [
    "### Lemmatization"
   ]
  },
  {
   "cell_type": "markdown",
   "id": "7ef7aced",
   "metadata": {},
   "source": [
    "Converts the words into their basis form (aka dictionary form)"
   ]
  },
  {
   "cell_type": "code",
   "execution_count": 12,
   "id": "91138175",
   "metadata": {},
   "outputs": [],
   "source": [
    "from nltk.stem.wordnet import WordNetLemmatizer\n",
    "from nltk.corpus.reader.wordnet import NOUN, VERB, ADJ"
   ]
  },
  {
   "cell_type": "code",
   "execution_count": 19,
   "id": "e7b94ce8",
   "metadata": {},
   "outputs": [],
   "source": [
    "lemmatizer = WordNetLemmatizer()"
   ]
  },
  {
   "cell_type": "code",
   "execution_count": 20,
   "id": "49ac3321",
   "metadata": {},
   "outputs": [],
   "source": [
    "tokens = nltk.word_tokenize(test_sentence)\n",
    "tags = nltk.pos_tag(tokens)"
   ]
  },
  {
   "cell_type": "code",
   "execution_count": 21,
   "id": "bc7c5980",
   "metadata": {},
   "outputs": [
    {
     "name": "stdout",
     "output_type": "stream",
     "text": [
      "I\n",
      "hope\n",
      "this\n",
      "winter\n",
      "it\n",
      "'s\n",
      "not\n",
      "too\n",
      "cold\n",
      "but\n",
      "I\n",
      "'ve\n",
      "hear\n",
      "it\n",
      "'s\n",
      "go\n",
      "to\n",
      "be\n",
      "cold\n",
      "than\n",
      "the\n",
      "last\n",
      "one\n"
     ]
    }
   ],
   "source": [
    "for i, token in enumerate(tokens):\n",
    "    pos_tag = tags[i][1]\n",
    "\n",
    "    if pos_tag.startswith(\"N\"):\n",
    "        lemma = lemmatizer.lemmatize(token, pos=NOUN)\n",
    "    elif pos_tag.startswith(\"V\"):\n",
    "        lemma = lemmatizer.lemmatize(token, pos=VERB)\n",
    "    elif pos_tag.startswith(\"J\"):\n",
    "        lemma = lemmatizer.lemmatize(token, pos=ADJ)\n",
    "    else:\n",
    "        lemma = token\n",
    "        \n",
    "    print(lemma)"
   ]
  }
 ],
 "metadata": {
  "kernelspec": {
   "display_name": "Python 3 (ipykernel)",
   "language": "python",
   "name": "python3"
  },
  "language_info": {
   "codemirror_mode": {
    "name": "ipython",
    "version": 3
   },
   "file_extension": ".py",
   "mimetype": "text/x-python",
   "name": "python",
   "nbconvert_exporter": "python",
   "pygments_lexer": "ipython3",
   "version": "3.9.13"
  }
 },
 "nbformat": 4,
 "nbformat_minor": 5
}
